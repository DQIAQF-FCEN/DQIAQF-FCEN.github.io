{
 "cells": [
  {
   "cell_type": "markdown",
   "metadata": {
    "id": "7ptgwP3t4Cfb"
   },
   "source": [
    "**Problema** 1-3\n",
    "\n",
    "Para una temperatura de $723$ K y un volumen molar $1$ dm$^{3}$, empleando los modelos de gas ideal, esferas duras y Van der Waals, graficar entre $10^{-5}$ y $500$ bar:\n",
    "\n",
    "a) $Z \\, \\, vs \\, \\, p$ \n",
    "\n",
    "b) $(Z-1)/p \\, \\, vs \\, \\, p$\n",
    "\n",
    "c) $\\ln \\varphi \\, \\, vs \\, \\, p$\n",
    "\n",
    "\n"
   ]
  },
  {
   "cell_type": "markdown",
   "metadata": {
    "id": "sIeXlWKPMJ9M"
   },
   "source": [
    "**Resolución:**\n",
    "\n",
    "Este ejercicio nos permitirá no solo aprender/repasar cómo graficar una dada función con python, sino que también sirve de caso de estudio para aprender a integrar numéricamente. ¿Por qué hablamos de integración? Bueno, porque el $\\ln \\varphi$ a una dada presión se calcula como la integral de $(Z-1)/p$ entre $0$ (o $p$ tendiendo a $0$) y la presión a la cual se quiere conocer $\\ln \\varphi$:\n",
    "\n",
    "$$ \\ln \\varphi  = \\int_{p \\to 0}^{p}\\frac{Z-1}{p} dp $$ \n",
    "\n",
    "Pero esto nos lo piden recién en el item c, por lo que primero nos concentraremos en los items **a** y **b**, que son más directos."
   ]
  },
  {
   "cell_type": "markdown",
   "metadata": {
    "id": "vrY371WvOGdP"
   },
   "source": [
    "Comenzaremos por **importar** algunas **bibliotecas** que nos permitirán realizar operaciones matemáticas y gráficar.\n",
    "\n",
    "Numpy (https://numpy.org/) es una de las librerías más poderosas de python, y sus alcances van mucho más allá de lo que utilizaremos en este ejercicio. Nos permite realizar diversas operaciones matemáticas con **arrays** (matrices), leer y escribir archivos .csv, entre otras cosas.\n",
    "\n",
    "Matplotlib (https://matplotlib.org/) es una librería que permite generar gráficos (y animaciones), y en particular **pyplot** es un subconjunto de funciones de ella que permite generar gráficos de forma particularmente simple.\n",
    "\n",
    "Para importar numpy y pyplot, ejecutamos:"
   ]
  },
  {
   "cell_type": "code",
   "execution_count": 1,
   "metadata": {
    "id": "aIjyXeS6OC7q"
   },
   "outputs": [],
   "source": [
    "import numpy as np # importo numpy con el alias np\n",
    "import matplotlib.pyplot as plt # importo pyplot de matplotlib con el alias plt"
   ]
  },
  {
   "cell_type": "markdown",
   "metadata": {
    "id": "sWmLiL89j2VS"
   },
   "source": [
    "El siguiente paso es cargar nuestras los valores de nuestros parámetrosen el programa. Esto puede realizarse de varias maneras (por ejemplo, podríamos leerlos de un archivo aparte), pero para mantener el código simple, procederemos a asignar los valores de los parámetros a variables dentro del mismo código: "
   ]
  },
  {
   "cell_type": "code",
   "execution_count": 2,
   "metadata": {
    "id": "fCznsKumj6Q-"
   },
   "outputs": [],
   "source": [
    "R = 0.08314 # bar.dm3/K mol\n",
    "a = 3.640 # dm6 bar/mol2\n",
    "b = 0.04267 # L/mol\n",
    "T = 373 # K"
   ]
  },
  {
   "cell_type": "markdown",
   "metadata": {
    "id": "cUBatqKwsCCy"
   },
   "source": [
    "Lo que nos conviene ahora es definir funciones para calcular $Z$ según distintos modelos, que tomen como variables $T$, $p$ y los parámetros del modelo en particular.\n",
    "\n",
    "Pero antes de programar, tenemos que resolver nuestro problema en \"lápiz y papel\". La estrategia a seguir es, para cada modelo, despejar $\\bar{V}$ en función del resto de las variables, para luego reemplazar en $Z$:\n",
    "\n",
    "$$ Z = \\frac{p \\bar{V}}{RT} $$\n",
    "\n",
    "*  Para gases ideales (GI):\n",
    "\n",
    "$$ p = \\frac{RT}{\\bar{V}} ⇒ \\bar{V} = \\frac{RT}{p} $$\n",
    "\n",
    "De modo que:\n",
    "\n",
    "\n",
    "$$ Z_{GI} = \\frac{p \\bar{V}}{RT} = \\frac{p}{RT} \\ \\frac{RT}{p}$$\n",
    "\n",
    "$$ \\boxed{Z_{GI} = 1}$$\n",
    "\n",
    "Es decir, $Z_{GI}$ es siempre igual a $1$, para cualquier $p$.\n",
    "\n",
    "No es necesario definir una función en este caso, pero lo haremos de todas maneras para mantener la \"homogeneidad\" de nuestro enfoque:\n",
    "\n",
    "\n"
   ]
  },
  {
   "cell_type": "code",
   "execution_count": 3,
   "metadata": {
    "id": "W1Jih6CgA8xF"
   },
   "outputs": [],
   "source": [
    "def calcularZ_GI(R,p,T): \n",
    "  return 1.0"
   ]
  },
  {
   "cell_type": "markdown",
   "metadata": {
    "id": "-mVw6iynA9ZP"
   },
   "source": [
    "* El caso de esferas duras (GED) también es relativamente sencillo, por que podemos despejar $\\bar{V}$:\n",
    "\n",
    "\n",
    "$$ p = \\frac{RT}{\\bar{V}-b} ⇒ \\bar{V} = \\frac{RT}{p}+b $$\n",
    "\n",
    "Y luego,\n",
    "\n",
    "$$ Z_{GED} = \\frac{p \\bar{V}}{RT} = \\frac{p}{RT} \\ (\\frac{RT}{p}+b)$$\n",
    "\n",
    "$$ \\boxed{ Z_{GED} = 1+\\frac{p \\ b}{RT} }$$"
   ]
  },
  {
   "cell_type": "code",
   "execution_count": 4,
   "metadata": {
    "id": "7qAnN8twypFF"
   },
   "outputs": [],
   "source": [
    "def calcularZ_GED(b,R,p,T): \n",
    "  return (p*b/(R*T))+1.0"
   ]
  },
  {
   "cell_type": "markdown",
   "metadata": {
    "id": "fYq0inu4EM2P"
   },
   "source": [
    "* Por último, caso del modelo de Van de Waals (VdW) es un poco más complejo, debido a que es difícil \"despejar\" $\\bar{V}$. Más precisamente, requiere encontrar las raíces de un polinomio de grado tres.\n",
    "\n",
    "Para VdW:\n",
    "\n",
    "$$ p=\\frac{RT}{\\bar{V}-b}-\\frac{a}{\\bar{V}^{2}} $$\n",
    "\n",
    "Se obtiene que:\n",
    "\n",
    "$$ p\\bar{V}^{3}-(b \\ p + RT)\\bar{V}^{2}+a \\bar{V} - a \\ b=0 $$\n",
    "\n",
    "De modo que si queremos saber, para una dada presión y temperatura, el volumen molar del gas, tenemos que encontrar las raíces del polinomio $f(\\bar{V})$:\n",
    "\n",
    "$$ f(\\bar{V})=A \\bar{V}^{3} + B \\bar{V}^{2} + C \\bar{V} + D $$\n",
    "\n",
    "Donde:\n",
    "\n",
    "$$ A = p \\qquad B = -(b \\ p + RT) \\qquad C = a \\qquad D = -ab $$\n",
    "\n",
    "Lo primero a notar es que no habrá una única solución. Sin embargo, solo una de las soluciones tendrá significado fisicoquímico*. Nos quedaremos con la solución real más grande.\n",
    "\n",
    "___\n",
    "( * ) No es trivial de demostrar, pero las otras serán o bien, negativas, o bien, imaginarias, o bien, cercanas a $b$. Esto está relacionado con que los coeficientes $A$, $B$, $C$ y $D$ no pueden valer cualquier cosa, sino que algunos están relacionados entre ellos, otros tienen siempre signo definido, etc. (ver *fórmulas de Vieta*, que relacionan las raíces de los polinomios con sus coeficientes).\n",
    "___\n",
    "\n",
    "Para resolver este problema, utilizaremos la función **roots**  de **numpy**, que recibe como input una lista con los coeficientes del polinomio y da como resultado un **array** con sus raíces. Tendremos que tener un cuidado extra, puesto que no queremos cualquier raíz, sino la real más grande:\n"
   ]
  },
  {
   "cell_type": "code",
   "execution_count": 5,
   "metadata": {
    "id": "3M5wmLXbNNpx"
   },
   "outputs": [],
   "source": [
    "#Primero calculamos los coeficientes del polinomio\n",
    "\n",
    "def calcularZ_VdW(a,b,R,p,T): \n",
    "  #Primero calculamos los coeficientes del polinomio\n",
    "  A=p\n",
    "  B=-(b*p+R*T)\n",
    "  C=a\n",
    "  D=-a*b\n",
    "  #Ahora llamamos la función root de numpy\n",
    "  raices=np.roots([A,B,C,D])\n",
    "  #Guardamos en una lista las raíces reales\n",
    "  raices_reales=[] #lista vacía donde las vamos a guardar\n",
    "  for raiz in raices:\n",
    "    if np.isreal(raiz): #usamos la función isreal para ver si el elemento es real\n",
    "        raices_reales.append(np.real(raiz)) #si es real, la guardamos\n",
    "  #Nuestro Vmolar es el máximo de los valores de la lista:\n",
    "  Vm=max(raices_reales)\n",
    "  #Solo queda calcular Z\n",
    "  return p*Vm/(R*T)"
   ]
  },
  {
   "cell_type": "markdown",
   "metadata": {
    "id": "xupXMsmaWQlX"
   },
   "source": [
    "Y con algo de esfuerzo para este último caso, ya tenemos nuestras funciones calcularZ_GI, calcularZ_GED y calcularZ_VdW que, recibiendo como input $p$, $T$ y los parámetros del modelo, calculan $Z$.\n",
    "\n",
    "---\n",
    "Nota: Esto podríamos haberlo resuelto también con un \"solver\" que encuentre numéricamente qué valor de $\\bar{V}$ resuelve la ecuación$. En particular la biblioteca fsolve de scipy.optimize es muy útil para realizar este tipo de tareas, como veremos más adelante en la segunda parte de la materia.\n",
    "\n",
    "---\n",
    "\n",
    "Ahora solo nos queda generar una lista de presiones, calcular $Z$ para cada una de ellas, y guardar estos $Z$ en otra lista "
   ]
  },
  {
   "cell_type": "code",
   "execution_count": 6,
   "metadata": {
    "id": "AufXa9upR_GI"
   },
   "outputs": [],
   "source": [
    "lista_p=np.linspace(0.00001,500,1000) #Para generar una lista de presiones, genero un array de numpy de 1000 elementos entre 10-5 y 500\n",
    "lista_Z_GI=[] #Genero lista vacía donde voy a guardar los Z asociados a cada presión\n",
    "lista_Z_GED=[]\n",
    "lista_Z_VdW=[]\n",
    "for p in lista_p:\n",
    "   lista_Z_GI.append(calcularZ_GI(R,p,T))\n",
    "   lista_Z_GED.append(calcularZ_GED(b,R,p,T))\n",
    "   lista_Z_VdW.append(calcularZ_VdW(a,b,R,p,T))"
   ]
  },
  {
   "cell_type": "markdown",
   "metadata": {
    "id": "SCAICN0LZkv1"
   },
   "source": [
    "Y ya podemos graficar:"
   ]
  },
  {
   "cell_type": "code",
   "execution_count": 7,
   "metadata": {
    "colab": {
     "base_uri": "https://localhost:8080/",
     "height": 279
    },
    "executionInfo": {
     "elapsed": 322,
     "status": "ok",
     "timestamp": 1652146027940,
     "user": {
      "displayName": "Jonathan Semelak",
      "userId": "05080886449578641805"
     },
     "user_tz": 180
    },
    "id": "NzKFVDGmZorC",
    "outputId": "edb14eb2-91dc-4c60-df92-4073a48bcf6b"
   },
   "outputs": [
    {
     "data": {
      "image/png": "[encoded data removed]",
      "text/plain": [
       "<Figure size 432x288 with 1 Axes>"
      ]
     },
     "metadata": {
      "filenames": {
       "image/png": "/home/leo/projects/FQ2_book/fq2/_build/jupyter_execute/notebooks/QF2_Ejercicio_1-3_15_0.png"
      },
      "needs_background": "light"
     },
     "output_type": "display_data"
    }
   ],
   "source": [
    "plt.plot(lista_p,lista_Z_GI,label='GI')\n",
    "plt.plot(lista_p,lista_Z_GED,label='GED')\n",
    "plt.plot(lista_p,lista_Z_VdW,label='VdW')\n",
    "plt.xlabel('p (bar)') # Rótulo de eje horizontal\n",
    "plt.ylabel('Z') #Rótulo de eje vertical\n",
    "plt.legend() #Para mostrar la leyenda de cada línea graficada\n",
    "plt.show() #Para mostrar graficar la figura en pantalla"
   ]
  },
  {
   "cell_type": "markdown",
   "metadata": {
    "id": "p_BdmBL0aB8f"
   },
   "source": [
    "**b)** El plot de $(Z-1)/p$ requiere generar nuevas listas a partir de las anteriores:"
   ]
  },
  {
   "cell_type": "code",
   "execution_count": 8,
   "metadata": {
    "id": "kR3kugG0aVuI"
   },
   "outputs": [],
   "source": [
    "lista_Zmenos1sobreP_GI=[] #Genero lista vacía donde voy a guardar los Z asociados a cada presión\n",
    "lista_Zmenos1sobreP_GED=[]\n",
    "lista_Zmenos1sobreP_VdW=[]\n",
    "for i in range(0,len(lista_p)): #i va a ir desde 0 hasta la dimensión de lista_p -no inclusive-\n",
    "    lista_Zmenos1sobreP_GI.append((lista_Z_GI[i]-1)/lista_p[i]) \n",
    "    lista_Zmenos1sobreP_GED.append((lista_Z_GED[i]-1)/lista_p[i]) \n",
    "    lista_Zmenos1sobreP_VdW.append((lista_Z_VdW[i]-1)/lista_p[i])"
   ]
  },
  {
   "cell_type": "markdown",
   "metadata": {
    "id": "SEPp31QXb01c"
   },
   "source": [
    "Y ya tenemos en una lista valores de $(Z-1)/p$. Antes de graficar, vamos ya a determinar $\\ln \\varphi$.\n",
    "\n",
    "**c)** La estrategia que utilizaremos será la de integrar numéricamente la expresión anterior. Realizaremos la integración entre el primer elemento de nuestro array de presiones (que es una presión cercana a cero), y la presión que querramos.\n",
    "\n",
    "El método que utilizaremos será el conocido como método trapezoidal, y lo implementaremos nosotros mismos. La figura siguiente intenta describir cómo se aproxima el área debajo de la curva con este método, dibujando un trapezoide, y calculando su área:\n",
    "\n",
    "![](https://drive.google.com/uc?export=view&id=1sT4Z5EDXb9R9WRj2RUlymb2LjgatcWlo)"
   ]
  },
  {
   "cell_type": "markdown",
   "metadata": {
    "id": "z6gZzGBUigC1"
   },
   "source": [
    "Luego, obtenemos $\\ln \\varphi$ como (el código es un poco largo porque los nombres que elegimos para nuestras listas son excesivamente declarativos, pero leánlo con atención que se parece a lo que venimos haciendo hasta ahora):"
   ]
  },
  {
   "cell_type": "code",
   "execution_count": 9,
   "metadata": {
    "id": "okA6awB3ifs3"
   },
   "outputs": [],
   "source": [
    "lista_lnphi_GI=[]\n",
    "lista_lnphi_GI.append(0.0) #a p->0 asumimos la integral da 0\n",
    "valor_GI=0.0\n",
    "lista_lnphi_GED=[]\n",
    "lista_lnphi_GED.append(0.0) #a p->0 asumimos la integral da 0\n",
    "valor_GED=0.0\n",
    "lista_lnphi_VdW=[]\n",
    "lista_lnphi_VdW.append(0.0) #a p->0 asumimos la integral da 0\n",
    "valor_VdW=0.0\n",
    "for i in range(0,len(lista_p)-1): #como en cada iteración miramos el elemento i y el i+1, no barremos hasta el último elemento de p sino el anteúltimo\n",
    "    valor_GI=valor_GI+(lista_Zmenos1sobreP_GI[i+1]+lista_Zmenos1sobreP_GI[i])*(lista_p[i+1]-lista_p[i])/2\n",
    "    valor_GED=valor_GED+(lista_Zmenos1sobreP_GED[i+1]+lista_Zmenos1sobreP_GED[i])*(lista_p[i+1]-lista_p[i])/2\n",
    "    valor_VdW=valor_VdW+(lista_Zmenos1sobreP_VdW[i+1]+lista_Zmenos1sobreP_VdW[i])*(lista_p[i+1]-lista_p[i])/2\n",
    "    lista_lnphi_GI.append(valor_GI)\n",
    "    lista_lnphi_GED.append(valor_GED)\n",
    "    lista_lnphi_VdW.append(valor_VdW)"
   ]
  },
  {
   "cell_type": "code",
   "execution_count": 10,
   "metadata": {
    "colab": {
     "base_uri": "https://localhost:8080/",
     "height": 279
    },
    "executionInfo": {
     "elapsed": 378,
     "status": "ok",
     "timestamp": 1652146438411,
     "user": {
      "displayName": "Jonathan Semelak",
      "userId": "05080886449578641805"
     },
     "user_tz": 180
    },
    "id": "uScB0s3Vb2e7",
    "outputId": "43cf9640-a0f6-4534-d888-9b9e0f9619a3"
   },
   "outputs": [
    {
     "data": {
      "image/png": "[encoded data removed]",
      "text/plain": [
       "<Figure size 432x288 with 1 Axes>"
      ]
     },
     "metadata": {
      "filenames": {
       "image/png": "/home/leo/projects/FQ2_book/fq2/_build/jupyter_execute/notebooks/QF2_Ejercicio_1-3_21_0.png"
      },
      "needs_background": "light"
     },
     "output_type": "display_data"
    }
   ],
   "source": [
    "plt.plot(lista_p,lista_Zmenos1sobreP_GI,label='GI')\n",
    "plt.plot(lista_p,lista_Zmenos1sobreP_GED,label='GED')\n",
    "plt.plot(lista_p,lista_Zmenos1sobreP_VdW,label='VdW')\n",
    "plt.xlabel('p (bar)') # Rótulo de eje horizontal\n",
    "plt.ylabel('(Z-1)/p') #Rótulo de eje vertical\n",
    "plt.legend() #Para mostrar la leyenda de cada línea graficada\n",
    "plt.show() #Para mostrar graficar la figura en pantalla"
   ]
  },
  {
   "cell_type": "code",
   "execution_count": 11,
   "metadata": {
    "colab": {
     "base_uri": "https://localhost:8080/",
     "height": 279
    },
    "executionInfo": {
     "elapsed": 481,
     "status": "ok",
     "timestamp": 1652146440051,
     "user": {
      "displayName": "Jonathan Semelak",
      "userId": "05080886449578641805"
     },
     "user_tz": 180
    },
    "id": "ZKzsTFbqlA3w",
    "outputId": "9250e38b-4fa2-4dff-e627-8b6efcfe972c"
   },
   "outputs": [
    {
     "data": {
      "image/png": "[encoded data removed]",
      "text/plain": [
       "<Figure size 432x288 with 1 Axes>"
      ]
     },
     "metadata": {
      "filenames": {
       "image/png": "/home/leo/projects/FQ2_book/fq2/_build/jupyter_execute/notebooks/QF2_Ejercicio_1-3_22_0.png"
      },
      "needs_background": "light"
     },
     "output_type": "display_data"
    }
   ],
   "source": [
    "plt.plot(lista_p,lista_lnphi_GI,label='GI')\n",
    "plt.plot(lista_p,lista_lnphi_GED,label='GED')\n",
    "plt.plot(lista_p,lista_lnphi_VdW,label='VdW')\n",
    "plt.xlabel('p (bar)') # Rótulo de eje horizontal\n",
    "plt.ylabel('lnphi') #Rótulo de eje vertical\n",
    "plt.legend() #Para mostrar la leyenda de cada línea graficada\n",
    "plt.show() #Para mostrar graficar la figura en pantalla"
   ]
  }
 ],
 "metadata": {
  "colab": {
   "collapsed_sections": [],
   "name": "QF2 Ejercicio 1-3.ipynb",
   "provenance": [
    {
     "file_id": "1zDh7aXpQbUq0ZkLP4KABWto_1t4nZbCx",
     "timestamp": 1651682699089
    }
   ]
  },
  "kernelspec": {
   "display_name": "Python 3",
   "name": "python3"
  },
  "language_info": {
   "codemirror_mode": {
    "name": "ipython",
    "version": 3
   },
   "file_extension": ".py",
   "mimetype": "text/x-python",
   "name": "python",
   "nbconvert_exporter": "python",
   "pygments_lexer": "ipython3",
   "version": "3.6.9"
  }
 },
 "nbformat": 4,
 "nbformat_minor": 0
}